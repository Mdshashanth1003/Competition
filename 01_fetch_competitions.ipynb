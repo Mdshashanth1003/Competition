{
 "cells": [
  {
   "cell_type": "code",
   "execution_count": 12,
   "id": "00695686",
   "metadata": {},
   "outputs": [
    {
     "name": "stdout",
     "output_type": "stream",
     "text": [
      "Requirement already satisfied: PyMySQL in c:\\users\\dhina\\anaconda3\\lib\\site-packages (1.1.1)Note: you may need to restart the kernel to use updated packages.\n",
      "\n"
     ]
    }
   ],
   "source": [
    "pip install PyMySQL"
   ]
  },
  {
   "cell_type": "code",
   "execution_count": null,
   "id": "045d6d7e",
   "metadata": {},
   "outputs": [],
   "source": [
    "# Database connection\n",
    "db = mysql.connector.connect(\n",
    "    host=\"localhost\",\n",
    "    user=\"root\",\n",
    "    password=\"root\",\n",
    "    database=\"sport_radar_db\"\n",
    ")\n",
    "cursor = db.cursor()"
   ]
  },
  {
   "cell_type": "code",
   "execution_count": 4,
   "id": "86213b8b",
   "metadata": {},
   "outputs": [
    {
     "name": "stdout",
     "output_type": "stream",
     "text": [
      "       category_id category_name\n",
      "0  sr:category:181    Hopman Cup\n",
      "1    sr:category:3           ATP\n",
      "2   sr:category:72    Challenger\n",
      "3    sr:category:6           WTA\n",
      "4   sr:category:76     Davis Cup\n",
      "        competition_id                   competition_name  \\\n",
      "0   sr:competition:620                         Hopman Cup   \n",
      "1   sr:competition:660                     World Team Cup   \n",
      "2   sr:competition:990         ATP Challenger Tour Finals   \n",
      "3  sr:competition:1207  Championship International Series   \n",
      "4  sr:competition:2100                          Davis Cup   \n",
      "\n",
      "             parent_id     type gender      category_id  \n",
      "0                 None    mixed  mixed  sr:category:181  \n",
      "1                 None    mixed    men    sr:category:3  \n",
      "2  sr:competition:6239  singles    men   sr:category:72  \n",
      "3                 None  singles  women    sr:category:6  \n",
      "4                 None    mixed    men   sr:category:76  \n"
     ]
    }
   ],
   "source": [
    "import pandas as pd\n",
    "\n",
    "with open(\"competitions.json\") as f:\n",
    "    data = json.load(f)\n",
    "\n",
    "categories_data = []\n",
    "competitions_data = []\n",
    "\n",
    "for competition in data[\"competitions\"]:\n",
    "    cat = competition[\"category\"]\n",
    "    categories_data.append({\n",
    "        \"category_id\": cat[\"id\"],\n",
    "        \"category_name\": cat[\"name\"]\n",
    "    })\n",
    "    competitions_data.append({\n",
    "        \"competition_id\": competition[\"id\"],\n",
    "        \"competition_name\": competition[\"name\"],\n",
    "        \"parent_id\": competition.get(\"parent_id\"),\n",
    "        \"type\": competition.get(\"type\", \"\"),\n",
    "        \"gender\": competition.get(\"gender\", \"\"),\n",
    "        \"category_id\": cat[\"id\"]\n",
    "    })\n",
    "\n",
    "# Remove duplicate categories\n",
    "categories_df = pd.DataFrame(categories_data).drop_duplicates()\n",
    "competitions_df = pd.DataFrame(competitions_data)\n",
    "\n",
    "# Preview\n",
    "print(categories_df.head())\n",
    "print(competitions_df.head())\n"
   ]
  },
  {
   "cell_type": "code",
   "execution_count": 5,
   "id": "76028276",
   "metadata": {},
   "outputs": [],
   "source": [
    "categories_df.to_csv(\"categories.csv\", index=False)\n",
    "competitions_df.to_csv(\"competitions.csv\", index=False)\n"
   ]
  },
  {
   "cell_type": "code",
   "execution_count": 6,
   "id": "c7ed3e3c",
   "metadata": {},
   "outputs": [],
   "source": [
    "import requests\n",
    "import pandas as pd\n",
    "import json"
   ]
  },
  {
   "cell_type": "code",
   "execution_count": 7,
   "id": "81646820",
   "metadata": {},
   "outputs": [],
   "source": [
    "API_KEY = \"JGFzYadfWQ0yBHjsW6m1rR9R8VWEwT0kefGbZb0G\"\n",
    "\n",
    "# API endpoint to fetch competitions\n",
    "url = f\"https://api.sportradar.com/tennis/trial/v3/en/competitions.json?api_key={API_KEY}\""
   ]
  },
  {
   "cell_type": "code",
   "execution_count": 8,
   "id": "090509e7",
   "metadata": {},
   "outputs": [
    {
     "name": "stdout",
     "output_type": "stream",
     "text": [
      "✅ Data fetched successfully!\n"
     ]
    }
   ],
   "source": [
    "response = requests.get(url)\n",
    "\n",
    "if response.status_code == 200:\n",
    "    competitions_json = response.json()\n",
    "    print(\"✅ Data fetched successfully!\")\n",
    "else:\n",
    "    print(f\"❌ Failed to fetch data. Status Code: {response.status_code}\")\n"
   ]
  },
  {
   "cell_type": "code",
   "execution_count": 9,
   "id": "6370bce5",
   "metadata": {},
   "outputs": [],
   "source": [
    "# Prepare lists\n",
    "categories_data = []\n",
    "competitions_data = []\n",
    "\n",
    "# Loop through competitions\n",
    "for comp in competitions_json[\"competitions\"]:\n",
    "    cat = comp[\"category\"]\n",
    "    \n",
    "    categories_data.append({\n",
    "        \"category_id\": cat[\"id\"],\n",
    "        \"category_name\": cat[\"name\"]\n",
    "    })\n",
    "    \n",
    "    competitions_data.append({\n",
    "        \"competition_id\": comp[\"id\"],\n",
    "        \"competition_name\": comp[\"name\"],\n",
    "        \"parent_id\": comp.get(\"parent_id\"),\n",
    "        \"type\": comp.get(\"type\", \"\"),\n",
    "        \"gender\": comp.get(\"gender\", \"\"),\n",
    "        \"category_id\": cat[\"id\"]\n",
    "    })\n"
   ]
  },
  {
   "cell_type": "code",
   "execution_count": 10,
   "id": "760b85a6",
   "metadata": {},
   "outputs": [
    {
     "data": {
      "text/plain": [
       "(       category_id category_name\n",
       " 0  sr:category:181    Hopman Cup\n",
       " 1    sr:category:3           ATP\n",
       " 2   sr:category:72    Challenger\n",
       " 3    sr:category:6           WTA\n",
       " 4   sr:category:76     Davis Cup,\n",
       "         competition_id                   competition_name  \\\n",
       " 0   sr:competition:620                         Hopman Cup   \n",
       " 1   sr:competition:660                     World Team Cup   \n",
       " 2   sr:competition:990         ATP Challenger Tour Finals   \n",
       " 3  sr:competition:1207  Championship International Series   \n",
       " 4  sr:competition:2100                          Davis Cup   \n",
       " \n",
       "              parent_id     type gender      category_id  \n",
       " 0                 None    mixed  mixed  sr:category:181  \n",
       " 1                 None    mixed    men    sr:category:3  \n",
       " 2  sr:competition:6239  singles    men   sr:category:72  \n",
       " 3                 None  singles  women    sr:category:6  \n",
       " 4                 None    mixed    men   sr:category:76  )"
      ]
     },
     "execution_count": 10,
     "metadata": {},
     "output_type": "execute_result"
    }
   ],
   "source": [
    "# Remove duplicates from categories\n",
    "categories_df = pd.DataFrame(categories_data).drop_duplicates()\n",
    "competitions_df = pd.DataFrame(competitions_data)\n",
    "\n",
    "# Show output\n",
    "categories_df.head(), competitions_df.head()\n"
   ]
  },
  {
   "cell_type": "code",
   "execution_count": 11,
   "id": "f338d9bb",
   "metadata": {},
   "outputs": [
    {
     "name": "stdout",
     "output_type": "stream",
     "text": [
      "📁 Data saved to CSV files.\n"
     ]
    }
   ],
   "source": [
    "categories_df.to_csv(\"categories.csv\", index=False)\n",
    "competitions_df.to_csv(\"competitions.csv\", index=False)\n",
    "\n",
    "print(\"📁 Data saved to CSV files.\")\n"
   ]
  }
 ],
 "metadata": {
  "kernelspec": {
   "display_name": "Python 3 (ipykernel)",
   "language": "python",
   "name": "python3"
  },
  "language_info": {
   "codemirror_mode": {
    "name": "ipython",
    "version": 3
   },
   "file_extension": ".py",
   "mimetype": "text/x-python",
   "name": "python",
   "nbconvert_exporter": "python",
   "pygments_lexer": "ipython3",
   "version": "3.11.5"
  }
 },
 "nbformat": 4,
 "nbformat_minor": 5
}
