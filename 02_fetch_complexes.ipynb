{
 "cells": [
  {
   "cell_type": "code",
   "execution_count": 7,
   "id": "919eb11e",
   "metadata": {},
   "outputs": [],
   "source": [
    "import requests\n",
    "import pandas as pd\n"
   ]
  },
  {
   "cell_type": "code",
   "execution_count": 8,
   "id": "b2251028",
   "metadata": {},
   "outputs": [],
   "source": [
    "# Replace with your actual SportRadar API key\n",
    "API_KEY = \"JGFzYadfWQ0yBHjsW6m1rR9R8VWEwT0kefGbZb0G\"\n",
    "\n",
    "# API endpoint for complexes\n",
    "url = f\"https://api.sportradar.com/tennis/trial/v3/en/complexes.json?api_key={API_KEY}\"\n"
   ]
  },
  {
   "cell_type": "code",
   "execution_count": 9,
   "id": "f5f3db27",
   "metadata": {},
   "outputs": [
    {
     "name": "stdout",
     "output_type": "stream",
     "text": [
      "✅ Complexes data fetched successfully!\n"
     ]
    }
   ],
   "source": [
    "response = requests.get(url)\n",
    "\n",
    "if response.status_code == 200:\n",
    "    complexes_json = response.json()\n",
    "    print(\"✅ Complexes data fetched successfully!\")\n",
    "else:\n",
    "    print(f\"❌ Failed to fetch data. Status Code: {response.status_code}\")\n"
   ]
  },
  {
   "cell_type": "code",
   "execution_count": 4,
   "id": "e302dbb2",
   "metadata": {},
   "outputs": [],
   "source": [
    "# Prepare lists\n",
    "complexes_data = []\n",
    "venues_data = []\n",
    "\n",
    "for complex_ in complexes_json[\"complexes\"]:\n",
    "    # Complex info\n",
    "    complexes_data.append({\n",
    "        \"complex_id\": complex_[\"id\"],\n",
    "        \"complex_name\": complex_[\"name\"]\n",
    "    })\n",
    "    \n",
    "    # Venues under this complex\n",
    "    for venue in complex_.get(\"venues\", []):\n",
    "        venues_data.append({\n",
    "            \"venue_id\": venue[\"id\"],\n",
    "            \"venue_name\": venue[\"name\"],\n",
    "            \"city_name\": venue.get(\"city_name\", \"\"),\n",
    "            \"country_name\": venue.get(\"country_name\", \"\"),\n",
    "            \"country_code\": venue.get(\"country_code\", \"\"),\n",
    "            \"timezone\": venue.get(\"timezone\", \"\"),\n",
    "            \"complex_id\": complex_[\"id\"]\n",
    "        })\n"
   ]
  },
  {
   "cell_type": "code",
   "execution_count": 5,
   "id": "2063f9e4",
   "metadata": {},
   "outputs": [
    {
     "data": {
      "text/plain": [
       "(        complex_id                           complex_name\n",
       " 0   sr:complex:705                               Nacional\n",
       " 1  sr:complex:1078                  Estadio de la Cartuja\n",
       " 2  sr:complex:1495                            Sibur Arena\n",
       " 3  sr:complex:2375             Complexo de Tenis do Jamor\n",
       " 4  sr:complex:4032  Shree Shiv Chhatrapati Sports Complex,\n",
       "          venue_id      venue_name         city_name country_name country_code  \\\n",
       " 0  sr:venue:70045  Cancha Central          Santiago        Chile          CHL   \n",
       " 1  sr:venue:74856    Centre Court           Seville        Spain          ESP   \n",
       " 2  sr:venue:74858       Court One           Seville        Spain          ESP   \n",
       " 3   sr:venue:1496         COURT 1  Saint Petersburg       Russia          RUS   \n",
       " 4   sr:venue:1500    CENTER COURT  Saint Petersburg       Russia          RUS   \n",
       " \n",
       "            timezone       complex_id  \n",
       " 0  America/Santiago   sr:complex:705  \n",
       " 1     Europe/Madrid  sr:complex:1078  \n",
       " 2     Europe/Madrid  sr:complex:1078  \n",
       " 3     Europe/Moscow  sr:complex:1495  \n",
       " 4     Europe/Moscow  sr:complex:1495  )"
      ]
     },
     "execution_count": 5,
     "metadata": {},
     "output_type": "execute_result"
    }
   ],
   "source": [
    "complexes_df = pd.DataFrame(complexes_data).drop_duplicates()\n",
    "venues_df = pd.DataFrame(venues_data)\n",
    "\n",
    "# Display top rows\n",
    "complexes_df.head(), venues_df.head()\n"
   ]
  },
  {
   "cell_type": "code",
   "execution_count": 6,
   "id": "6323b844",
   "metadata": {},
   "outputs": [
    {
     "name": "stdout",
     "output_type": "stream",
     "text": [
      "📁 Complexes and venues data saved.\n"
     ]
    }
   ],
   "source": [
    "complexes_df.to_csv(\"complexes.csv\", index=False)\n",
    "venues_df.to_csv(\"venues.csv\", index=False)\n",
    "\n",
    "print(\"📁 Complexes and venues data saved.\")\n"
   ]
  },
  {
   "cell_type": "code",
   "execution_count": null,
   "id": "0a5493d9",
   "metadata": {},
   "outputs": [],
   "source": []
  }
 ],
 "metadata": {
  "kernelspec": {
   "display_name": "Python 3 (ipykernel)",
   "language": "python",
   "name": "python3"
  },
  "language_info": {
   "codemirror_mode": {
    "name": "ipython",
    "version": 3
   },
   "file_extension": ".py",
   "mimetype": "text/x-python",
   "name": "python",
   "nbconvert_exporter": "python",
   "pygments_lexer": "ipython3",
   "version": "3.11.5"
  }
 },
 "nbformat": 4,
 "nbformat_minor": 5
}
